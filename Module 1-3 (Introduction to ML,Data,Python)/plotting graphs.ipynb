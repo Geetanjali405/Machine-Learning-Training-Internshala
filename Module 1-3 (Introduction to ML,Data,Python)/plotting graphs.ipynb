{
 "cells": [
  {
   "cell_type": "code",
   "execution_count": 6,
   "metadata": {},
   "outputs": [],
   "source": [
    "import pandas as pd\n",
    "import numpy as np\n",
    "import matplotlib.pyplot as plt"
   ]
  },
  {
   "cell_type": "code",
   "execution_count": 7,
   "metadata": {},
   "outputs": [],
   "source": [
    "raw_housing=pd.read_csv(\"regre.csv\")"
   ]
  },
  {
   "cell_type": "code",
   "execution_count": 8,
   "metadata": {},
   "outputs": [
    {
     "data": {
      "text/html": [
       "<div>\n",
       "<style scoped>\n",
       "    .dataframe tbody tr th:only-of-type {\n",
       "        vertical-align: middle;\n",
       "    }\n",
       "\n",
       "    .dataframe tbody tr th {\n",
       "        vertical-align: top;\n",
       "    }\n",
       "\n",
       "    .dataframe thead th {\n",
       "        text-align: right;\n",
       "    }\n",
       "</style>\n",
       "<table border=\"1\" class=\"dataframe\">\n",
       "  <thead>\n",
       "    <tr style=\"text-align: right;\">\n",
       "      <th></th>\n",
       "      <th>ID</th>\n",
       "      <th>Date House was Sold</th>\n",
       "      <th>Sale Price</th>\n",
       "      <th>No of Bedrooms</th>\n",
       "      <th>No of Bathrooms</th>\n",
       "      <th>Flat Area (in Sqft)</th>\n",
       "      <th>Lot Area (in Sqft)</th>\n",
       "      <th>No of Floors</th>\n",
       "      <th>Waterfront View</th>\n",
       "      <th>No of Times Visited</th>\n",
       "      <th>...</th>\n",
       "      <th>Overall Grade</th>\n",
       "      <th>Area of the House from Basement (in Sqft)</th>\n",
       "      <th>Basement Area (in Sqft)</th>\n",
       "      <th>Age of House (in Years)</th>\n",
       "      <th>Renovated Year</th>\n",
       "      <th>Zipcode</th>\n",
       "      <th>Latitude</th>\n",
       "      <th>Longitude</th>\n",
       "      <th>Living Area after Renovation (in Sqft)</th>\n",
       "      <th>Lot Area after Renovation (in Sqft)</th>\n",
       "    </tr>\n",
       "  </thead>\n",
       "  <tbody>\n",
       "    <tr>\n",
       "      <th>0</th>\n",
       "      <td>7129300520</td>\n",
       "      <td>14 October 2017</td>\n",
       "      <td>221900.0</td>\n",
       "      <td>3</td>\n",
       "      <td>1.00</td>\n",
       "      <td>1180.0</td>\n",
       "      <td>5650.0</td>\n",
       "      <td>1.0</td>\n",
       "      <td>No</td>\n",
       "      <td>None</td>\n",
       "      <td>...</td>\n",
       "      <td>7</td>\n",
       "      <td>1180.0</td>\n",
       "      <td>0</td>\n",
       "      <td>63</td>\n",
       "      <td>0</td>\n",
       "      <td>98178.0</td>\n",
       "      <td>47.5112</td>\n",
       "      <td>-122.257</td>\n",
       "      <td>1340.0</td>\n",
       "      <td>5650</td>\n",
       "    </tr>\n",
       "    <tr>\n",
       "      <th>1</th>\n",
       "      <td>6414100192</td>\n",
       "      <td>14 December 2017</td>\n",
       "      <td>538000.0</td>\n",
       "      <td>3</td>\n",
       "      <td>2.25</td>\n",
       "      <td>2570.0</td>\n",
       "      <td>7242.0</td>\n",
       "      <td>2.0</td>\n",
       "      <td>No</td>\n",
       "      <td>None</td>\n",
       "      <td>...</td>\n",
       "      <td>7</td>\n",
       "      <td>2170.0</td>\n",
       "      <td>400</td>\n",
       "      <td>67</td>\n",
       "      <td>1991</td>\n",
       "      <td>98125.0</td>\n",
       "      <td>47.7210</td>\n",
       "      <td>-122.319</td>\n",
       "      <td>1690.0</td>\n",
       "      <td>7639</td>\n",
       "    </tr>\n",
       "    <tr>\n",
       "      <th>2</th>\n",
       "      <td>5631500400</td>\n",
       "      <td>15 February 2016</td>\n",
       "      <td>180000.0</td>\n",
       "      <td>2</td>\n",
       "      <td>1.00</td>\n",
       "      <td>770.0</td>\n",
       "      <td>10000.0</td>\n",
       "      <td>1.0</td>\n",
       "      <td>No</td>\n",
       "      <td>None</td>\n",
       "      <td>...</td>\n",
       "      <td>6</td>\n",
       "      <td>770.0</td>\n",
       "      <td>0</td>\n",
       "      <td>85</td>\n",
       "      <td>0</td>\n",
       "      <td>98028.0</td>\n",
       "      <td>47.7379</td>\n",
       "      <td>-122.233</td>\n",
       "      <td>2720.0</td>\n",
       "      <td>8062</td>\n",
       "    </tr>\n",
       "    <tr>\n",
       "      <th>3</th>\n",
       "      <td>2487200875</td>\n",
       "      <td>14 December 2017</td>\n",
       "      <td>604000.0</td>\n",
       "      <td>4</td>\n",
       "      <td>3.00</td>\n",
       "      <td>1960.0</td>\n",
       "      <td>5000.0</td>\n",
       "      <td>1.0</td>\n",
       "      <td>No</td>\n",
       "      <td>None</td>\n",
       "      <td>...</td>\n",
       "      <td>7</td>\n",
       "      <td>1050.0</td>\n",
       "      <td>910</td>\n",
       "      <td>53</td>\n",
       "      <td>0</td>\n",
       "      <td>98136.0</td>\n",
       "      <td>47.5208</td>\n",
       "      <td>-122.393</td>\n",
       "      <td>1360.0</td>\n",
       "      <td>5000</td>\n",
       "    </tr>\n",
       "    <tr>\n",
       "      <th>4</th>\n",
       "      <td>1954400510</td>\n",
       "      <td>15 February 2016</td>\n",
       "      <td>510000.0</td>\n",
       "      <td>3</td>\n",
       "      <td>2.00</td>\n",
       "      <td>1680.0</td>\n",
       "      <td>8080.0</td>\n",
       "      <td>1.0</td>\n",
       "      <td>No</td>\n",
       "      <td>None</td>\n",
       "      <td>...</td>\n",
       "      <td>8</td>\n",
       "      <td>1680.0</td>\n",
       "      <td>0</td>\n",
       "      <td>31</td>\n",
       "      <td>0</td>\n",
       "      <td>98074.0</td>\n",
       "      <td>47.6168</td>\n",
       "      <td>-122.045</td>\n",
       "      <td>1800.0</td>\n",
       "      <td>7503</td>\n",
       "    </tr>\n",
       "    <tr>\n",
       "      <th>...</th>\n",
       "      <td>...</td>\n",
       "      <td>...</td>\n",
       "      <td>...</td>\n",
       "      <td>...</td>\n",
       "      <td>...</td>\n",
       "      <td>...</td>\n",
       "      <td>...</td>\n",
       "      <td>...</td>\n",
       "      <td>...</td>\n",
       "      <td>...</td>\n",
       "      <td>...</td>\n",
       "      <td>...</td>\n",
       "      <td>...</td>\n",
       "      <td>...</td>\n",
       "      <td>...</td>\n",
       "      <td>...</td>\n",
       "      <td>...</td>\n",
       "      <td>...</td>\n",
       "      <td>...</td>\n",
       "      <td>...</td>\n",
       "      <td>...</td>\n",
       "    </tr>\n",
       "    <tr>\n",
       "      <th>21608</th>\n",
       "      <td>263000018</td>\n",
       "      <td>14 May 2017</td>\n",
       "      <td>360000.0</td>\n",
       "      <td>3</td>\n",
       "      <td>2.50</td>\n",
       "      <td>1530.0</td>\n",
       "      <td>1131.0</td>\n",
       "      <td>3.0</td>\n",
       "      <td>No</td>\n",
       "      <td>None</td>\n",
       "      <td>...</td>\n",
       "      <td>8</td>\n",
       "      <td>1530.0</td>\n",
       "      <td>0</td>\n",
       "      <td>9</td>\n",
       "      <td>0</td>\n",
       "      <td>98103.0</td>\n",
       "      <td>47.6993</td>\n",
       "      <td>-122.346</td>\n",
       "      <td>1530.0</td>\n",
       "      <td>1509</td>\n",
       "    </tr>\n",
       "    <tr>\n",
       "      <th>21609</th>\n",
       "      <td>6600060120</td>\n",
       "      <td>15 February 2016</td>\n",
       "      <td>400000.0</td>\n",
       "      <td>4</td>\n",
       "      <td>2.50</td>\n",
       "      <td>2310.0</td>\n",
       "      <td>5813.0</td>\n",
       "      <td>2.0</td>\n",
       "      <td>No</td>\n",
       "      <td>None</td>\n",
       "      <td>...</td>\n",
       "      <td>8</td>\n",
       "      <td>2310.0</td>\n",
       "      <td>0</td>\n",
       "      <td>4</td>\n",
       "      <td>0</td>\n",
       "      <td>98146.0</td>\n",
       "      <td>47.5107</td>\n",
       "      <td>-122.362</td>\n",
       "      <td>1830.0</td>\n",
       "      <td>7200</td>\n",
       "    </tr>\n",
       "    <tr>\n",
       "      <th>21610</th>\n",
       "      <td>1523300141</td>\n",
       "      <td>14 June 2017</td>\n",
       "      <td>402101.0</td>\n",
       "      <td>2</td>\n",
       "      <td>0.75</td>\n",
       "      <td>1020.0</td>\n",
       "      <td>1350.0</td>\n",
       "      <td>2.0</td>\n",
       "      <td>No</td>\n",
       "      <td>None</td>\n",
       "      <td>...</td>\n",
       "      <td>7</td>\n",
       "      <td>1020.0</td>\n",
       "      <td>0</td>\n",
       "      <td>9</td>\n",
       "      <td>0</td>\n",
       "      <td>98144.0</td>\n",
       "      <td>47.5944</td>\n",
       "      <td>-122.299</td>\n",
       "      <td>1020.0</td>\n",
       "      <td>2007</td>\n",
       "    </tr>\n",
       "    <tr>\n",
       "      <th>21611</th>\n",
       "      <td>291310100</td>\n",
       "      <td>15 January 2016</td>\n",
       "      <td>400000.0</td>\n",
       "      <td>3</td>\n",
       "      <td>2.50</td>\n",
       "      <td>1600.0</td>\n",
       "      <td>2388.0</td>\n",
       "      <td>2.0</td>\n",
       "      <td>No</td>\n",
       "      <td>None</td>\n",
       "      <td>...</td>\n",
       "      <td>8</td>\n",
       "      <td>1600.0</td>\n",
       "      <td>0</td>\n",
       "      <td>14</td>\n",
       "      <td>0</td>\n",
       "      <td>98027.0</td>\n",
       "      <td>47.5345</td>\n",
       "      <td>-122.069</td>\n",
       "      <td>1410.0</td>\n",
       "      <td>1287</td>\n",
       "    </tr>\n",
       "    <tr>\n",
       "      <th>21612</th>\n",
       "      <td>1523300157</td>\n",
       "      <td>14 October 2017</td>\n",
       "      <td>325000.0</td>\n",
       "      <td>2</td>\n",
       "      <td>0.75</td>\n",
       "      <td>1020.0</td>\n",
       "      <td>1076.0</td>\n",
       "      <td>2.0</td>\n",
       "      <td>No</td>\n",
       "      <td>None</td>\n",
       "      <td>...</td>\n",
       "      <td>7</td>\n",
       "      <td>1020.0</td>\n",
       "      <td>0</td>\n",
       "      <td>10</td>\n",
       "      <td>0</td>\n",
       "      <td>98144.0</td>\n",
       "      <td>47.5941</td>\n",
       "      <td>-122.299</td>\n",
       "      <td>1020.0</td>\n",
       "      <td>1357</td>\n",
       "    </tr>\n",
       "  </tbody>\n",
       "</table>\n",
       "<p>21613 rows × 21 columns</p>\n",
       "</div>"
      ],
      "text/plain": [
       "               ID Date House was Sold  Sale Price  No of Bedrooms  \\\n",
       "0      7129300520     14 October 2017    221900.0               3   \n",
       "1      6414100192    14 December 2017    538000.0               3   \n",
       "2      5631500400    15 February 2016    180000.0               2   \n",
       "3      2487200875    14 December 2017    604000.0               4   \n",
       "4      1954400510    15 February 2016    510000.0               3   \n",
       "...           ...                 ...         ...             ...   \n",
       "21608   263000018         14 May 2017    360000.0               3   \n",
       "21609  6600060120    15 February 2016    400000.0               4   \n",
       "21610  1523300141        14 June 2017    402101.0               2   \n",
       "21611   291310100     15 January 2016    400000.0               3   \n",
       "21612  1523300157     14 October 2017    325000.0               2   \n",
       "\n",
       "       No of Bathrooms  Flat Area (in Sqft)  Lot Area (in Sqft)  No of Floors  \\\n",
       "0                 1.00               1180.0              5650.0           1.0   \n",
       "1                 2.25               2570.0              7242.0           2.0   \n",
       "2                 1.00                770.0             10000.0           1.0   \n",
       "3                 3.00               1960.0              5000.0           1.0   \n",
       "4                 2.00               1680.0              8080.0           1.0   \n",
       "...                ...                  ...                 ...           ...   \n",
       "21608             2.50               1530.0              1131.0           3.0   \n",
       "21609             2.50               2310.0              5813.0           2.0   \n",
       "21610             0.75               1020.0              1350.0           2.0   \n",
       "21611             2.50               1600.0              2388.0           2.0   \n",
       "21612             0.75               1020.0              1076.0           2.0   \n",
       "\n",
       "      Waterfront View No of Times Visited  ... Overall Grade  \\\n",
       "0                  No                None  ...             7   \n",
       "1                  No                None  ...             7   \n",
       "2                  No                None  ...             6   \n",
       "3                  No                None  ...             7   \n",
       "4                  No                None  ...             8   \n",
       "...               ...                 ...  ...           ...   \n",
       "21608              No                None  ...             8   \n",
       "21609              No                None  ...             8   \n",
       "21610              No                None  ...             7   \n",
       "21611              No                None  ...             8   \n",
       "21612              No                None  ...             7   \n",
       "\n",
       "       Area of the House from Basement (in Sqft)  Basement Area (in Sqft)  \\\n",
       "0                                         1180.0                        0   \n",
       "1                                         2170.0                      400   \n",
       "2                                          770.0                        0   \n",
       "3                                         1050.0                      910   \n",
       "4                                         1680.0                        0   \n",
       "...                                          ...                      ...   \n",
       "21608                                     1530.0                        0   \n",
       "21609                                     2310.0                        0   \n",
       "21610                                     1020.0                        0   \n",
       "21611                                     1600.0                        0   \n",
       "21612                                     1020.0                        0   \n",
       "\n",
       "       Age of House (in Years)  Renovated Year  Zipcode  Latitude  Longitude  \\\n",
       "0                           63               0  98178.0   47.5112   -122.257   \n",
       "1                           67            1991  98125.0   47.7210   -122.319   \n",
       "2                           85               0  98028.0   47.7379   -122.233   \n",
       "3                           53               0  98136.0   47.5208   -122.393   \n",
       "4                           31               0  98074.0   47.6168   -122.045   \n",
       "...                        ...             ...      ...       ...        ...   \n",
       "21608                        9               0  98103.0   47.6993   -122.346   \n",
       "21609                        4               0  98146.0   47.5107   -122.362   \n",
       "21610                        9               0  98144.0   47.5944   -122.299   \n",
       "21611                       14               0  98027.0   47.5345   -122.069   \n",
       "21612                       10               0  98144.0   47.5941   -122.299   \n",
       "\n",
       "       Living Area after Renovation (in Sqft)  \\\n",
       "0                                      1340.0   \n",
       "1                                      1690.0   \n",
       "2                                      2720.0   \n",
       "3                                      1360.0   \n",
       "4                                      1800.0   \n",
       "...                                       ...   \n",
       "21608                                  1530.0   \n",
       "21609                                  1830.0   \n",
       "21610                                  1020.0   \n",
       "21611                                  1410.0   \n",
       "21612                                  1020.0   \n",
       "\n",
       "       Lot Area after Renovation (in Sqft)  \n",
       "0                                     5650  \n",
       "1                                     7639  \n",
       "2                                     8062  \n",
       "3                                     5000  \n",
       "4                                     7503  \n",
       "...                                    ...  \n",
       "21608                                 1509  \n",
       "21609                                 7200  \n",
       "21610                                 2007  \n",
       "21611                                 1287  \n",
       "21612                                 1357  \n",
       "\n",
       "[21613 rows x 21 columns]"
      ]
     },
     "execution_count": 8,
     "metadata": {},
     "output_type": "execute_result"
    }
   ],
   "source": [
    "raw_housing"
   ]
  },
  {
   "cell_type": "code",
   "execution_count": 9,
   "metadata": {},
   "outputs": [
    {
     "data": {
      "text/plain": [
       "[<matplotlib.lines.Line2D at 0x23772805b50>]"
      ]
     },
     "execution_count": 9,
     "metadata": {},
     "output_type": "execute_result"
    },
    {
     "data": {
      "image/png": "[encoded data removed]",
      "text/plain": [
       "<Figure size 432x288 with 1 Axes>"
      ]
     },
     "metadata": {
      "needs_background": "light"
     },
     "output_type": "display_data"
    }
   ],
   "source": [
    "#line\n",
    "#plt.plot(x and y)\n",
    "plt.plot(raw_housing['Sale Price'])"
   ]
  },
  {
   "cell_type": "code",
   "execution_count": 15,
   "metadata": {},
   "outputs": [
    {
     "data": {
      "image/png": "[encoded data removed]",
      "text/plain": [
       "<Figure size 432x288 with 1 Axes>"
      ]
     },
     "metadata": {
      "needs_background": "light"
     },
     "output_type": "display_data"
    }
   ],
   "source": [
    "plt.plot(raw_housing['Sale Price'],color= 'green')\n",
    "plt.xlabel(\"Record Number\")\n",
    "plt.ylabel(\"Sale Price\")\n",
    "plt.title(\"My First Graph\")\n",
    "plt.show()"
   ]
  },
  {
   "cell_type": "code",
   "execution_count": 16,
   "metadata": {},
   "outputs": [
    {
     "data": {
      "text/plain": [
       "Condition of the House\n",
       "Bad             30\n",
       "Excellent     1701\n",
       "Fair         14031\n",
       "Good          5679\n",
       "Okay           172\n",
       "Name: ID, dtype: int64"
      ]
     },
     "execution_count": 16,
     "metadata": {},
     "output_type": "execute_result"
    }
   ],
   "source": [
    "#condition of the housess=pie chart\n",
    "raw_housing.groupby('Condition of the House')['ID'].count()"
   ]
  },
  {
   "cell_type": "code",
   "execution_count": 17,
   "metadata": {},
   "outputs": [],
   "source": [
    "values=(30,1701,14031,5679,172)"
   ]
  },
  {
   "cell_type": "code",
   "execution_count": 18,
   "metadata": {},
   "outputs": [],
   "source": [
    "labels=('Bad','Excellent','Fair','Good','Okay')"
   ]
  },
  {
   "cell_type": "code",
   "execution_count": 20,
   "metadata": {},
   "outputs": [
    {
     "data": {
      "text/plain": [
       "([<matplotlib.patches.Wedge at 0x237757fea60>,\n",
       "  <matplotlib.patches.Wedge at 0x237757fef40>,\n",
       "  <matplotlib.patches.Wedge at 0x23775a2d400>,\n",
       "  <matplotlib.patches.Wedge at 0x23775a2d880>,\n",
       "  <matplotlib.patches.Wedge at 0x23775a2dd00>],\n",
       " [Text(1.099989541385049, 0.004796753434368107, 'Bad'),\n",
       "  Text(1.0641591373844368, 0.27850553014475643, 'Excellent'),\n",
       "  Text(-0.9085709380486652, 0.620079713047741, 'Fair'),\n",
       "  Text(0.7046888223897579, -0.8446381850229934, 'Good'),\n",
       "  Text(1.0996562341282203, -0.02749848619362501, 'Okay')])"
      ]
     },
     "execution_count": 20,
     "metadata": {},
     "output_type": "execute_result"
    },
    {
     "data": {
      "image/png": "[encoded data removed]",
      "text/plain": [
       "<Figure size 432x288 with 1 Axes>"
      ]
     },
     "metadata": {},
     "output_type": "display_data"
    }
   ],
   "source": [
    "plt.pie(values,labels=labels)"
   ]
  },
  {
   "cell_type": "code",
   "execution_count": 27,
   "metadata": {},
   "outputs": [
    {
     "data": {
      "text/plain": [
       "<BarContainer object of 5 artists>"
      ]
     },
     "execution_count": 27,
     "metadata": {},
     "output_type": "execute_result"
    },
    {
     "data": {
      "image/png": "[encoded data removed]",
      "text/plain": [
       "<Figure size 432x288 with 1 Axes>"
      ]
     },
     "metadata": {
      "needs_background": "light"
     },
     "output_type": "display_data"
    }
   ],
   "source": [
    "plt.bar(labels,values)"
   ]
  },
  {
   "cell_type": "code",
   "execution_count": 28,
   "metadata": {},
   "outputs": [],
   "source": [
    "#scatter plot ,histogram and a boxplot"
   ]
  },
  {
   "cell_type": "code",
   "execution_count": 30,
   "metadata": {},
   "outputs": [
    {
     "data": {
      "text/plain": [
       "Text(0.5, 1.0, 'sellin price vs area')"
      ]
     },
     "execution_count": 30,
     "metadata": {},
     "output_type": "execute_result"
    },
    {
     "data": {
      "image/png": "[encoded data removed]",
      "text/plain": [
       "<Figure size 432x288 with 1 Axes>"
      ]
     },
     "metadata": {
      "needs_background": "light"
     },
     "output_type": "display_data"
    }
   ],
   "source": [
    "#scatter plot-selling price and area of house changes\n",
    "plt.scatter(x=raw_housing['Flat Area (in Sqft)'],y=raw_housing['Sale Price'])\n",
    "plt.xlabel('area')\n",
    "plt.ylabel('sale price')\n",
    "plt.title('sellin price vs area')"
   ]
  },
  {
   "cell_type": "code",
   "execution_count": 32,
   "metadata": {},
   "outputs": [
    {
     "data": {
      "text/plain": [
       "Text(0.5, 1.0, 'sellin price vs bathroom')"
      ]
     },
     "execution_count": 32,
     "metadata": {},
     "output_type": "execute_result"
    },
    {
     "data": {
      "image/png": "[encoded data removed]",
      "text/plain": [
       "<Figure size 432x288 with 1 Axes>"
      ]
     },
     "metadata": {
      "needs_background": "light"
     },
     "output_type": "display_data"
    }
   ],
   "source": [
    "plt.scatter(x=raw_housing['No of Bathrooms'],y=raw_housing['Sale Price'])\n",
    "plt.xlabel('no. of bathroooms')\n",
    "plt.ylabel('sale price')\n",
    "plt.title('sellin price vs bathroom')"
   ]
  },
  {
   "cell_type": "code",
   "execution_count": 33,
   "metadata": {},
   "outputs": [
    {
     "data": {
      "text/html": [
       "<div>\n",
       "<style scoped>\n",
       "    .dataframe tbody tr th:only-of-type {\n",
       "        vertical-align: middle;\n",
       "    }\n",
       "\n",
       "    .dataframe tbody tr th {\n",
       "        vertical-align: top;\n",
       "    }\n",
       "\n",
       "    .dataframe thead th {\n",
       "        text-align: right;\n",
       "    }\n",
       "</style>\n",
       "<table border=\"1\" class=\"dataframe\">\n",
       "  <thead>\n",
       "    <tr style=\"text-align: right;\">\n",
       "      <th></th>\n",
       "      <th>ID</th>\n",
       "      <th>Sale Price</th>\n",
       "      <th>No of Bedrooms</th>\n",
       "      <th>No of Bathrooms</th>\n",
       "      <th>Flat Area (in Sqft)</th>\n",
       "      <th>Lot Area (in Sqft)</th>\n",
       "      <th>No of Floors</th>\n",
       "      <th>Overall Grade</th>\n",
       "      <th>Area of the House from Basement (in Sqft)</th>\n",
       "      <th>Basement Area (in Sqft)</th>\n",
       "      <th>Age of House (in Years)</th>\n",
       "      <th>Renovated Year</th>\n",
       "      <th>Zipcode</th>\n",
       "      <th>Latitude</th>\n",
       "      <th>Longitude</th>\n",
       "      <th>Living Area after Renovation (in Sqft)</th>\n",
       "      <th>Lot Area after Renovation (in Sqft)</th>\n",
       "    </tr>\n",
       "  </thead>\n",
       "  <tbody>\n",
       "    <tr>\n",
       "      <th>count</th>\n",
       "      <td>2.161300e+04</td>\n",
       "      <td>2.160900e+04</td>\n",
       "      <td>21613.000000</td>\n",
       "      <td>21609.000000</td>\n",
       "      <td>21604.000000</td>\n",
       "      <td>2.160400e+04</td>\n",
       "      <td>21613.000000</td>\n",
       "      <td>21613.000000</td>\n",
       "      <td>21610.000000</td>\n",
       "      <td>21613.000000</td>\n",
       "      <td>21613.000000</td>\n",
       "      <td>21613.000000</td>\n",
       "      <td>21612.000000</td>\n",
       "      <td>21612.000000</td>\n",
       "      <td>21612.000000</td>\n",
       "      <td>21612.000000</td>\n",
       "      <td>21613.000000</td>\n",
       "    </tr>\n",
       "    <tr>\n",
       "      <th>mean</th>\n",
       "      <td>4.580302e+09</td>\n",
       "      <td>5.401984e+05</td>\n",
       "      <td>3.370842</td>\n",
       "      <td>2.114732</td>\n",
       "      <td>2079.931772</td>\n",
       "      <td>1.510776e+04</td>\n",
       "      <td>1.494309</td>\n",
       "      <td>7.623467</td>\n",
       "      <td>1788.344193</td>\n",
       "      <td>291.509045</td>\n",
       "      <td>46.994864</td>\n",
       "      <td>84.402258</td>\n",
       "      <td>98077.937766</td>\n",
       "      <td>47.560048</td>\n",
       "      <td>-122.213892</td>\n",
       "      <td>1986.538914</td>\n",
       "      <td>12768.455652</td>\n",
       "    </tr>\n",
       "    <tr>\n",
       "      <th>std</th>\n",
       "      <td>2.876566e+09</td>\n",
       "      <td>3.673890e+05</td>\n",
       "      <td>0.930062</td>\n",
       "      <td>0.770138</td>\n",
       "      <td>918.487597</td>\n",
       "      <td>4.142827e+04</td>\n",
       "      <td>0.539989</td>\n",
       "      <td>1.105439</td>\n",
       "      <td>827.982604</td>\n",
       "      <td>442.575043</td>\n",
       "      <td>29.373411</td>\n",
       "      <td>401.679240</td>\n",
       "      <td>53.505425</td>\n",
       "      <td>0.138565</td>\n",
       "      <td>0.140830</td>\n",
       "      <td>685.404255</td>\n",
       "      <td>27304.179631</td>\n",
       "    </tr>\n",
       "    <tr>\n",
       "      <th>min</th>\n",
       "      <td>1.000102e+06</td>\n",
       "      <td>7.500000e+04</td>\n",
       "      <td>0.000000</td>\n",
       "      <td>0.000000</td>\n",
       "      <td>290.000000</td>\n",
       "      <td>5.200000e+02</td>\n",
       "      <td>1.000000</td>\n",
       "      <td>1.000000</td>\n",
       "      <td>290.000000</td>\n",
       "      <td>0.000000</td>\n",
       "      <td>3.000000</td>\n",
       "      <td>0.000000</td>\n",
       "      <td>98001.000000</td>\n",
       "      <td>47.155900</td>\n",
       "      <td>-122.519000</td>\n",
       "      <td>399.000000</td>\n",
       "      <td>651.000000</td>\n",
       "    </tr>\n",
       "    <tr>\n",
       "      <th>25%</th>\n",
       "      <td>2.123049e+09</td>\n",
       "      <td>3.219500e+05</td>\n",
       "      <td>3.000000</td>\n",
       "      <td>1.750000</td>\n",
       "      <td>1429.250000</td>\n",
       "      <td>5.040000e+03</td>\n",
       "      <td>1.000000</td>\n",
       "      <td>7.000000</td>\n",
       "      <td>1190.000000</td>\n",
       "      <td>0.000000</td>\n",
       "      <td>21.000000</td>\n",
       "      <td>0.000000</td>\n",
       "      <td>98033.000000</td>\n",
       "      <td>47.470975</td>\n",
       "      <td>-122.328000</td>\n",
       "      <td>1490.000000</td>\n",
       "      <td>5100.000000</td>\n",
       "    </tr>\n",
       "    <tr>\n",
       "      <th>50%</th>\n",
       "      <td>3.904930e+09</td>\n",
       "      <td>4.500000e+05</td>\n",
       "      <td>3.000000</td>\n",
       "      <td>2.250000</td>\n",
       "      <td>1910.000000</td>\n",
       "      <td>7.617500e+03</td>\n",
       "      <td>1.500000</td>\n",
       "      <td>7.000000</td>\n",
       "      <td>1560.000000</td>\n",
       "      <td>0.000000</td>\n",
       "      <td>43.000000</td>\n",
       "      <td>0.000000</td>\n",
       "      <td>98065.000000</td>\n",
       "      <td>47.571800</td>\n",
       "      <td>-122.230000</td>\n",
       "      <td>1840.000000</td>\n",
       "      <td>7620.000000</td>\n",
       "    </tr>\n",
       "    <tr>\n",
       "      <th>75%</th>\n",
       "      <td>7.308900e+09</td>\n",
       "      <td>6.450000e+05</td>\n",
       "      <td>4.000000</td>\n",
       "      <td>2.500000</td>\n",
       "      <td>2550.000000</td>\n",
       "      <td>1.068825e+04</td>\n",
       "      <td>2.000000</td>\n",
       "      <td>8.000000</td>\n",
       "      <td>2210.000000</td>\n",
       "      <td>560.000000</td>\n",
       "      <td>67.000000</td>\n",
       "      <td>0.000000</td>\n",
       "      <td>98118.000000</td>\n",
       "      <td>47.678000</td>\n",
       "      <td>-122.125000</td>\n",
       "      <td>2360.000000</td>\n",
       "      <td>10083.000000</td>\n",
       "    </tr>\n",
       "    <tr>\n",
       "      <th>max</th>\n",
       "      <td>9.900000e+09</td>\n",
       "      <td>7.700000e+06</td>\n",
       "      <td>33.000000</td>\n",
       "      <td>8.000000</td>\n",
       "      <td>13540.000000</td>\n",
       "      <td>1.651359e+06</td>\n",
       "      <td>3.500000</td>\n",
       "      <td>10.000000</td>\n",
       "      <td>9410.000000</td>\n",
       "      <td>4820.000000</td>\n",
       "      <td>118.000000</td>\n",
       "      <td>2015.000000</td>\n",
       "      <td>98199.000000</td>\n",
       "      <td>47.777600</td>\n",
       "      <td>-121.315000</td>\n",
       "      <td>6210.000000</td>\n",
       "      <td>871200.000000</td>\n",
       "    </tr>\n",
       "  </tbody>\n",
       "</table>\n",
       "</div>"
      ],
      "text/plain": [
       "                 ID    Sale Price  No of Bedrooms  No of Bathrooms  \\\n",
       "count  2.161300e+04  2.160900e+04    21613.000000     21609.000000   \n",
       "mean   4.580302e+09  5.401984e+05        3.370842         2.114732   \n",
       "std    2.876566e+09  3.673890e+05        0.930062         0.770138   \n",
       "min    1.000102e+06  7.500000e+04        0.000000         0.000000   \n",
       "25%    2.123049e+09  3.219500e+05        3.000000         1.750000   \n",
       "50%    3.904930e+09  4.500000e+05        3.000000         2.250000   \n",
       "75%    7.308900e+09  6.450000e+05        4.000000         2.500000   \n",
       "max    9.900000e+09  7.700000e+06       33.000000         8.000000   \n",
       "\n",
       "       Flat Area (in Sqft)  Lot Area (in Sqft)  No of Floors  Overall Grade  \\\n",
       "count         21604.000000        2.160400e+04  21613.000000   21613.000000   \n",
       "mean           2079.931772        1.510776e+04      1.494309       7.623467   \n",
       "std             918.487597        4.142827e+04      0.539989       1.105439   \n",
       "min             290.000000        5.200000e+02      1.000000       1.000000   \n",
       "25%            1429.250000        5.040000e+03      1.000000       7.000000   \n",
       "50%            1910.000000        7.617500e+03      1.500000       7.000000   \n",
       "75%            2550.000000        1.068825e+04      2.000000       8.000000   \n",
       "max           13540.000000        1.651359e+06      3.500000      10.000000   \n",
       "\n",
       "       Area of the House from Basement (in Sqft)  Basement Area (in Sqft)  \\\n",
       "count                               21610.000000             21613.000000   \n",
       "mean                                 1788.344193               291.509045   \n",
       "std                                   827.982604               442.575043   \n",
       "min                                   290.000000                 0.000000   \n",
       "25%                                  1190.000000                 0.000000   \n",
       "50%                                  1560.000000                 0.000000   \n",
       "75%                                  2210.000000               560.000000   \n",
       "max                                  9410.000000              4820.000000   \n",
       "\n",
       "       Age of House (in Years)  Renovated Year       Zipcode      Latitude  \\\n",
       "count             21613.000000    21613.000000  21612.000000  21612.000000   \n",
       "mean                 46.994864       84.402258  98077.937766     47.560048   \n",
       "std                  29.373411      401.679240     53.505425      0.138565   \n",
       "min                   3.000000        0.000000  98001.000000     47.155900   \n",
       "25%                  21.000000        0.000000  98033.000000     47.470975   \n",
       "50%                  43.000000        0.000000  98065.000000     47.571800   \n",
       "75%                  67.000000        0.000000  98118.000000     47.678000   \n",
       "max                 118.000000     2015.000000  98199.000000     47.777600   \n",
       "\n",
       "          Longitude  Living Area after Renovation (in Sqft)  \\\n",
       "count  21612.000000                            21612.000000   \n",
       "mean    -122.213892                             1986.538914   \n",
       "std        0.140830                              685.404255   \n",
       "min     -122.519000                              399.000000   \n",
       "25%     -122.328000                             1490.000000   \n",
       "50%     -122.230000                             1840.000000   \n",
       "75%     -122.125000                             2360.000000   \n",
       "max     -121.315000                             6210.000000   \n",
       "\n",
       "       Lot Area after Renovation (in Sqft)  \n",
       "count                         21613.000000  \n",
       "mean                          12768.455652  \n",
       "std                           27304.179631  \n",
       "min                             651.000000  \n",
       "25%                            5100.000000  \n",
       "50%                            7620.000000  \n",
       "75%                           10083.000000  \n",
       "max                          871200.000000  "
      ]
     },
     "execution_count": 33,
     "metadata": {},
     "output_type": "execute_result"
    }
   ],
   "source": [
    "raw_housing.describe()"
   ]
  },
  {
   "cell_type": "code",
   "execution_count": 34,
   "metadata": {},
   "outputs": [
    {
     "data": {
      "text/plain": [
       "(array([3592., 2663., 2784., 2525., 3218., 2587., 1361., 1079.,  952.,\n",
       "         852.]),\n",
       " array([  3. ,  14.5,  26. ,  37.5,  49. ,  60.5,  72. ,  83.5,  95. ,\n",
       "        106.5, 118. ]),\n",
       " <BarContainer object of 10 artists>)"
      ]
     },
     "execution_count": 34,
     "metadata": {},
     "output_type": "execute_result"
    },
    {
     "data": {
      "image/png": "[encoded data removed]",
      "text/plain": [
       "<Figure size 432x288 with 1 Axes>"
      ]
     },
     "metadata": {
      "needs_background": "light"
     },
     "output_type": "display_data"
    }
   ],
   "source": [
    "plt.hist(raw_housing['Age of House (in Years)'],bins=10)"
   ]
  },
  {
   "cell_type": "code",
   "execution_count": 35,
   "metadata": {},
   "outputs": [
    {
     "data": {
      "text/plain": [
       "{'whiskers': [<matplotlib.lines.Line2D at 0x2377430cf40>,\n",
       "  <matplotlib.lines.Line2D at 0x2377430c430>],\n",
       " 'caps': [<matplotlib.lines.Line2D at 0x23772b6f0a0>,\n",
       "  <matplotlib.lines.Line2D at 0x2376f90f550>],\n",
       " 'boxes': [<matplotlib.lines.Line2D at 0x2377430c040>],\n",
       " 'medians': [<matplotlib.lines.Line2D at 0x237757df160>],\n",
       " 'fliers': [<matplotlib.lines.Line2D at 0x237757df190>],\n",
       " 'means': []}"
      ]
     },
     "execution_count": 35,
     "metadata": {},
     "output_type": "execute_result"
    },
    {
     "data": {
      "image/png": "[encoded data removed]",
      "text/plain": [
       "<Figure size 432x288 with 1 Axes>"
      ]
     },
     "metadata": {
      "needs_background": "light"
     },
     "output_type": "display_data"
    }
   ],
   "source": [
    "plt.boxplot(raw_housing['Age of House (in Years)'])"
   ]
  },
  {
   "cell_type": "code",
   "execution_count": null,
   "metadata": {},
   "outputs": [],
   "source": []
  }
 ],
 "metadata": {
  "kernelspec": {
   "display_name": "Python 3",
   "language": "python",
   "name": "python3"
  },
  "language_info": {
   "codemirror_mode": {
    "name": "ipython",
    "version": 3
   },
   "file_extension": ".py",
   "mimetype": "text/x-python",
   "name": "python",
   "nbconvert_exporter": "python",
   "pygments_lexer": "ipython3",
   "version": "3.8.5"
  }
 },
 "nbformat": 4,
 "nbformat_minor": 4
}
